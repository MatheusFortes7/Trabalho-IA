{
  "cells": [
    {
      "cell_type": "code",
      "execution_count": 3,
      "metadata": {
        "colab": {
          "base_uri": "https://localhost:8080/"
        },
        "id": "BWC4QvW6FZ5d",
        "outputId": "f578e71d-391a-457f-ddbc-ffdbc822dcc1"
      },
      "outputs": [
        {
          "data": {
            "text/plain": [
              "<bound method NDFrame.head of       precipitation  temp_max  temp_min  wind  weather\n",
              "0               0.0      12.8       5.0   4.7  drizzle\n",
              "1              10.9      10.6       2.8   4.5     rain\n",
              "2               0.8      11.7       7.2   2.3     rain\n",
              "3              20.3      12.2       5.6   4.7     rain\n",
              "4               1.3       8.9       2.8   6.1     rain\n",
              "...             ...       ...       ...   ...      ...\n",
              "1456            8.6       4.4       1.7   2.9     rain\n",
              "1457            1.5       5.0       1.7   1.3     rain\n",
              "1458            0.0       7.2       0.6   2.6      fog\n",
              "1459            0.0       5.6      -1.0   3.4      sun\n",
              "1460            0.0       5.6      -2.1   3.5      sun\n",
              "\n",
              "[1461 rows x 5 columns]>"
            ]
          },
          "execution_count": 3,
          "metadata": {},
          "output_type": "execute_result"
        }
      ],
      "source": [
        "import pandas as pd\n",
        "df = pd.read_csv(\"/content/seattle-weather - seattle-weather.csv\")\n",
        "df.head"
      ]
    },
    {
      "cell_type": "code",
      "execution_count": 4,
      "metadata": {
        "id": "BwFrVQxmFbwF"
      },
      "outputs": [],
      "source": [
        "from sklearn.model_selection import train_test_split\n",
        "from sklearn.preprocessing import LabelEncoder\n",
        "X = df.drop('weather', axis='columns')\n",
        "Y = df['weather']\n",
        "Y = LabelEncoder().fit_transform(Y)\n",
        "X_train, X_test, Y_train, Y_test = train_test_split(X, Y, test_size=0.3)"
      ]
    },
    {
      "cell_type": "markdown",
      "metadata": {
        "id": "T4dPR-4MK02B"
      },
      "source": [
        "## Decision Tree"
      ]
    },
    {
      "cell_type": "code",
      "execution_count": 5,
      "metadata": {
        "id": "oTTgdjDlFbtF"
      },
      "outputs": [],
      "source": [
        "from sklearn.tree import DecisionTreeClassifier\n",
        "model = DecisionTreeClassifier()\n",
        "model = model.fit(X_train, Y_train)"
      ]
    },
    {
      "cell_type": "code",
      "execution_count": 6,
      "metadata": {
        "colab": {
          "base_uri": "https://localhost:8080/"
        },
        "id": "s2MHQgJ2FbrC",
        "outputId": "96b690ee-5ff7-4cf7-f024-b53ea6347cae"
      },
      "outputs": [
        {
          "data": {
            "text/plain": [
              "array([2, 2, 1, 1, 2, 4, 4, 2, 4, 1, 4, 2, 4, 4, 4, 4, 4, 2, 4, 4, 4, 2,\n",
              "       2, 4, 2, 4, 4, 2, 4, 2, 2, 2, 4, 2, 1, 4, 4, 2, 2, 0, 1, 2, 4, 4,\n",
              "       0, 4, 4, 2, 2, 4, 2, 4, 3, 4, 2, 2, 2, 2, 4, 4, 2, 4, 4, 2, 4, 4,\n",
              "       2, 1, 2, 4, 2, 4, 2, 4, 4, 2, 4, 2, 4, 4, 4, 4, 2, 2, 4, 1, 2, 4,\n",
              "       2, 4, 2, 4, 2, 2, 4, 2, 2, 2, 2, 4, 1, 2, 2, 4, 2, 1, 4, 0, 1, 2,\n",
              "       2, 3, 4, 4, 4, 2, 1, 2, 2, 1, 2, 2, 2, 2, 2, 1, 4, 1, 4, 1, 2, 2,\n",
              "       4, 4, 2, 2, 4, 0, 4, 4, 2, 4, 4, 4, 2, 0, 2, 4, 2, 2, 2, 1, 4, 1,\n",
              "       4, 2, 4, 4, 4, 2, 2, 2, 1, 2, 2, 4, 2, 2, 2, 4, 1, 4, 4, 4, 2, 2,\n",
              "       4, 4, 4, 1, 2, 0, 1, 1, 2, 2, 2, 0, 4, 2, 2, 4, 4, 4, 2, 4, 2, 4,\n",
              "       2, 2, 3, 4, 2, 4, 2, 2, 4, 1, 4, 4, 4, 4, 4, 4, 2, 4, 4, 4, 4, 2,\n",
              "       1, 2, 0, 2, 2, 2, 2, 4, 2, 4, 4, 2, 4, 1, 1, 1, 2, 4, 4, 2, 2, 4,\n",
              "       4, 0, 2, 2, 0, 2, 2, 4, 2, 4, 2, 4, 4, 4, 1, 4, 4, 2, 2, 2, 4, 0,\n",
              "       2, 2, 0, 4, 4, 2, 2, 4, 1, 4, 2, 2, 2, 2, 4, 2, 2, 4, 2, 2, 2, 4,\n",
              "       2, 4, 4, 4, 2, 4, 0, 4, 0, 3, 4, 2, 2, 2, 2, 4, 1, 4, 2, 4, 2, 4,\n",
              "       1, 2, 2, 2, 4, 2, 2, 2, 2, 2, 0, 2, 2, 2, 1, 2, 2, 2, 4, 2, 2, 4,\n",
              "       2, 2, 4, 2, 2, 4, 2, 2, 3, 4, 2, 2, 2, 4, 2, 4, 0, 2, 2, 4, 4, 2,\n",
              "       2, 4, 4, 2, 2, 2, 2, 4, 2, 2, 2, 1, 2, 4, 0, 4, 4, 3, 2, 4, 4, 2,\n",
              "       4, 4, 2, 0, 0, 4, 4, 2, 4, 2, 1, 2, 4, 2, 4, 4, 4, 4, 1, 2, 4, 4,\n",
              "       2, 4, 1, 2, 2, 2, 2, 4, 2, 2, 1, 2, 4, 4, 4, 2, 4, 2, 1, 2, 2, 2,\n",
              "       2, 2, 4, 3, 1, 1, 4, 2, 4, 2, 1, 4, 4, 1, 4, 2, 2, 4, 4, 4, 4])"
            ]
          },
          "execution_count": 6,
          "metadata": {},
          "output_type": "execute_result"
        }
      ],
      "source": [
        "predictions = model.predict(X_test)\n",
        "predictions"
      ]
    },
    {
      "cell_type": "code",
      "execution_count": 7,
      "metadata": {
        "colab": {
          "base_uri": "https://localhost:8080/"
        },
        "id": "brXj9Cp0Fbou",
        "outputId": "b1b001ec-2f80-4ebf-9412-c6d09c0210e4"
      },
      "outputs": [
        {
          "data": {
            "text/plain": [
              "0.765375854214123"
            ]
          },
          "execution_count": 7,
          "metadata": {},
          "output_type": "execute_result"
        }
      ],
      "source": [
        "from sklearn.metrics import accuracy_score\n",
        "accuracy_score(Y_test, predictions)"
      ]
    },
    {
      "cell_type": "markdown",
      "metadata": {
        "id": "HOsmydvxK77U"
      },
      "source": [
        "## Randon Forest"
      ]
    },
    {
      "cell_type": "code",
      "execution_count": 8,
      "metadata": {
        "colab": {
          "base_uri": "https://localhost:8080/"
        },
        "id": "D9rMf4KuLCBJ",
        "outputId": "d2144e38-17ea-40e6-99af-cc80f1cc62d2"
      },
      "outputs": [
        {
          "data": {
            "text/plain": [
              "array([2, 2, 4, 4, 2, 4, 4, 2, 4, 4, 4, 2, 4, 4, 4, 4, 4, 2, 4, 4, 4, 2,\n",
              "       2, 4, 2, 4, 4, 2, 4, 2, 2, 2, 4, 2, 4, 4, 4, 2, 2, 4, 4, 2, 4, 1,\n",
              "       1, 4, 4, 2, 2, 4, 2, 4, 3, 4, 2, 2, 2, 2, 4, 4, 2, 4, 4, 2, 4, 4,\n",
              "       2, 4, 2, 4, 2, 4, 2, 4, 1, 2, 4, 2, 4, 4, 4, 4, 2, 2, 4, 4, 2, 4,\n",
              "       2, 4, 2, 4, 2, 2, 4, 2, 2, 2, 2, 4, 4, 2, 2, 4, 2, 4, 4, 4, 4, 2,\n",
              "       2, 2, 4, 4, 4, 2, 4, 2, 2, 1, 4, 2, 2, 2, 4, 4, 4, 4, 4, 4, 2, 2,\n",
              "       4, 4, 2, 2, 4, 4, 4, 4, 2, 4, 4, 4, 2, 4, 2, 4, 2, 2, 2, 1, 1, 1,\n",
              "       4, 2, 4, 4, 4, 2, 2, 2, 1, 2, 2, 4, 2, 2, 4, 4, 4, 4, 4, 4, 2, 2,\n",
              "       4, 4, 4, 2, 2, 0, 4, 4, 2, 2, 2, 4, 4, 2, 2, 4, 4, 4, 2, 4, 2, 4,\n",
              "       2, 2, 3, 2, 2, 4, 2, 2, 4, 4, 4, 4, 4, 4, 4, 4, 2, 4, 4, 4, 4, 2,\n",
              "       4, 2, 4, 2, 4, 2, 2, 4, 2, 4, 4, 2, 4, 1, 1, 4, 2, 4, 4, 2, 2, 4,\n",
              "       4, 0, 2, 2, 4, 2, 2, 4, 2, 4, 2, 4, 4, 4, 4, 4, 4, 2, 2, 2, 4, 0,\n",
              "       2, 2, 4, 4, 4, 2, 2, 4, 4, 4, 2, 2, 2, 2, 4, 2, 2, 4, 2, 2, 2, 4,\n",
              "       2, 4, 4, 4, 2, 4, 4, 4, 0, 2, 4, 2, 2, 2, 2, 4, 4, 4, 2, 4, 2, 4,\n",
              "       4, 2, 2, 2, 4, 2, 2, 2, 2, 2, 4, 2, 2, 2, 4, 2, 2, 2, 4, 4, 2, 4,\n",
              "       2, 2, 4, 2, 2, 4, 2, 2, 3, 4, 2, 2, 2, 4, 2, 4, 4, 2, 2, 4, 4, 2,\n",
              "       2, 4, 4, 2, 2, 2, 2, 4, 4, 2, 2, 4, 2, 4, 4, 4, 4, 3, 2, 4, 4, 4,\n",
              "       4, 4, 2, 4, 4, 4, 4, 2, 4, 4, 4, 2, 4, 2, 4, 4, 4, 4, 1, 2, 4, 4,\n",
              "       2, 4, 4, 2, 2, 2, 2, 4, 2, 2, 4, 2, 4, 4, 4, 4, 4, 2, 4, 2, 2, 2,\n",
              "       2, 2, 4, 3, 1, 4, 4, 2, 4, 2, 4, 4, 4, 1, 4, 2, 2, 4, 4, 4, 4])"
            ]
          },
          "execution_count": 8,
          "metadata": {},
          "output_type": "execute_result"
        }
      ],
      "source": [
        "from sklearn.ensemble import RandomForestClassifier\n",
        "modelF = RandomForestClassifier()\n",
        "modelF.fit(X_train, Y_train)\n",
        "\n",
        "predictions = modelF.predict(X_test)\n",
        "predictions"
      ]
    },
    {
      "cell_type": "code",
      "execution_count": 9,
      "metadata": {
        "colab": {
          "base_uri": "https://localhost:8080/"
        },
        "id": "wsGwrpi3LdgV",
        "outputId": "51ebcd30-25a4-4e92-f8d6-ea2c75a5be32"
      },
      "outputs": [
        {
          "data": {
            "text/plain": [
              "0.8337129840546698"
            ]
          },
          "execution_count": 9,
          "metadata": {},
          "output_type": "execute_result"
        }
      ],
      "source": [
        "from sklearn.metrics import accuracy_score\n",
        "accuracy_score(Y_test, predictions)"
      ]
    },
    {
      "cell_type": "markdown",
      "metadata": {
        "id": "XdUtFKf7L1FH"
      },
      "source": [
        "## Cross Validation\n",
        "\n",
        "\n",
        "\n"
      ]
    },
    {
      "cell_type": "code",
      "execution_count": 10,
      "metadata": {
        "colab": {
          "base_uri": "https://localhost:8080/",
          "height": 1000
        },
        "id": "pP5eMbyGL65A",
        "outputId": "4f286e3a-55ec-4518-973c-4e9c8b7be2d3"
      },
      "outputs": [
        {
          "name": "stdout",
          "output_type": "stream",
          "text": [
            "FOLD: 1\n",
            "              precision    recall  f1-score   support\n",
            "\n",
            "           0       0.00      0.00      0.00         5\n",
            "           1       0.00      0.00      0.00         1\n",
            "           2       0.92      0.92      0.92        50\n",
            "           3       0.50      0.33      0.40         3\n",
            "           4       0.81      0.68      0.74        44\n",
            "\n",
            "    accuracy                           0.75       103\n",
            "   macro avg       0.45      0.39      0.41       103\n",
            "weighted avg       0.81      0.75      0.77       103\n",
            "\n"
          ]
        },
        {
          "data": {
            "image/png": "[encoded data removed]",
            "text/plain": [
              "<Figure size 432x288 with 2 Axes>"
            ]
          },
          "metadata": {
            "needs_background": "light"
          },
          "output_type": "display_data"
        },
        {
          "name": "stdout",
          "output_type": "stream",
          "text": [
            "---------------------------------------------------------\n",
            "FOLD: 2\n",
            "              precision    recall  f1-score   support\n",
            "\n",
            "           0       0.50      0.29      0.36         7\n",
            "           1       0.17      0.17      0.17         6\n",
            "           2       0.90      0.94      0.92        47\n",
            "           3       0.00      0.00      0.00         0\n",
            "           4       0.74      0.74      0.74        43\n",
            "\n",
            "    accuracy                           0.77       103\n",
            "   macro avg       0.46      0.43      0.44       103\n",
            "weighted avg       0.76      0.77      0.76       103\n",
            "\n"
          ]
        },
        {
          "name": "stderr",
          "output_type": "stream",
          "text": [
            "/usr/local/lib/python3.8/dist-packages/sklearn/metrics/_classification.py:1318: UndefinedMetricWarning: Recall and F-score are ill-defined and being set to 0.0 in labels with no true samples. Use `zero_division` parameter to control this behavior.\n",
            "  _warn_prf(average, modifier, msg_start, len(result))\n",
            "/usr/local/lib/python3.8/dist-packages/sklearn/metrics/_classification.py:1318: UndefinedMetricWarning: Recall and F-score are ill-defined and being set to 0.0 in labels with no true samples. Use `zero_division` parameter to control this behavior.\n",
            "  _warn_prf(average, modifier, msg_start, len(result))\n",
            "/usr/local/lib/python3.8/dist-packages/sklearn/metrics/_classification.py:1318: UndefinedMetricWarning: Recall and F-score are ill-defined and being set to 0.0 in labels with no true samples. Use `zero_division` parameter to control this behavior.\n",
            "  _warn_prf(average, modifier, msg_start, len(result))\n",
            "/usr/local/lib/python3.8/dist-packages/sklearn/metrics/_classification.py:1318: UndefinedMetricWarning: Recall and F-score are ill-defined and being set to 0.0 in labels with no true samples. Use `zero_division` parameter to control this behavior.\n",
            "  _warn_prf(average, modifier, msg_start, len(result))\n"
          ]
        },
        {
          "data": {
            "image/png": "[encoded data removed]",
            "text/plain": [
              "<Figure size 432x288 with 2 Axes>"
            ]
          },
          "metadata": {
            "needs_background": "light"
          },
          "output_type": "display_data"
        },
        {
          "name": "stdout",
          "output_type": "stream",
          "text": [
            "---------------------------------------------------------\n",
            "FOLD: 3\n",
            "              precision    recall  f1-score   support\n",
            "\n",
            "           0       0.00      0.00      0.00         2\n",
            "           1       0.00      0.00      0.00         6\n",
            "           2       0.92      0.92      0.92        52\n",
            "           3       0.50      0.33      0.40         3\n",
            "           4       0.72      0.67      0.69        39\n",
            "\n",
            "    accuracy                           0.74       102\n",
            "   macro avg       0.43      0.38      0.40       102\n",
            "weighted avg       0.76      0.74      0.75       102\n",
            "\n"
          ]
        },
        {
          "data": {
            "image/png": "[encoded data removed]",
            "text/plain": [
              "<Figure size 432x288 with 2 Axes>"
            ]
          },
          "metadata": {
            "needs_background": "light"
          },
          "output_type": "display_data"
        },
        {
          "name": "stdout",
          "output_type": "stream",
          "text": [
            "---------------------------------------------------------\n",
            "FOLD: 4\n",
            "              precision    recall  f1-score   support\n",
            "\n",
            "           0       0.00      0.00      0.00         4\n",
            "           1       0.33      0.33      0.33         9\n",
            "           2       0.88      0.88      0.88        43\n",
            "           3       0.00      0.00      0.00         0\n",
            "           4       0.73      0.72      0.73        46\n",
            "\n",
            "    accuracy                           0.73       102\n",
            "   macro avg       0.39      0.39      0.39       102\n",
            "weighted avg       0.73      0.73      0.73       102\n",
            "\n"
          ]
        },
        {
          "name": "stderr",
          "output_type": "stream",
          "text": [
            "/usr/local/lib/python3.8/dist-packages/sklearn/metrics/_classification.py:1318: UndefinedMetricWarning: Recall and F-score are ill-defined and being set to 0.0 in labels with no true samples. Use `zero_division` parameter to control this behavior.\n",
            "  _warn_prf(average, modifier, msg_start, len(result))\n",
            "/usr/local/lib/python3.8/dist-packages/sklearn/metrics/_classification.py:1318: UndefinedMetricWarning: Recall and F-score are ill-defined and being set to 0.0 in labels with no true samples. Use `zero_division` parameter to control this behavior.\n",
            "  _warn_prf(average, modifier, msg_start, len(result))\n",
            "/usr/local/lib/python3.8/dist-packages/sklearn/metrics/_classification.py:1318: UndefinedMetricWarning: Recall and F-score are ill-defined and being set to 0.0 in labels with no true samples. Use `zero_division` parameter to control this behavior.\n",
            "  _warn_prf(average, modifier, msg_start, len(result))\n",
            "/usr/local/lib/python3.8/dist-packages/sklearn/metrics/_classification.py:1318: UndefinedMetricWarning: Recall and F-score are ill-defined and being set to 0.0 in labels with no true samples. Use `zero_division` parameter to control this behavior.\n",
            "  _warn_prf(average, modifier, msg_start, len(result))\n"
          ]
        },
        {
          "data": {
            "image/png": "[encoded data removed]",
            "text/plain": [
              "<Figure size 432x288 with 2 Axes>"
            ]
          },
          "metadata": {
            "needs_background": "light"
          },
          "output_type": "display_data"
        },
        {
          "name": "stdout",
          "output_type": "stream",
          "text": [
            "---------------------------------------------------------\n",
            "FOLD: 5\n",
            "              precision    recall  f1-score   support\n",
            "\n",
            "           0       0.00      0.00      0.00         2\n",
            "           1       0.18      0.22      0.20         9\n",
            "           2       0.95      0.79      0.86        52\n",
            "           3       0.00      0.00      0.00         0\n",
            "           4       0.71      0.77      0.74        39\n",
            "\n",
            "    accuracy                           0.72       102\n",
            "   macro avg       0.37      0.36      0.36       102\n",
            "weighted avg       0.78      0.72      0.74       102\n",
            "\n"
          ]
        },
        {
          "name": "stderr",
          "output_type": "stream",
          "text": [
            "/usr/local/lib/python3.8/dist-packages/sklearn/metrics/_classification.py:1318: UndefinedMetricWarning: Recall and F-score are ill-defined and being set to 0.0 in labels with no true samples. Use `zero_division` parameter to control this behavior.\n",
            "  _warn_prf(average, modifier, msg_start, len(result))\n",
            "/usr/local/lib/python3.8/dist-packages/sklearn/metrics/_classification.py:1318: UndefinedMetricWarning: Recall and F-score are ill-defined and being set to 0.0 in labels with no true samples. Use `zero_division` parameter to control this behavior.\n",
            "  _warn_prf(average, modifier, msg_start, len(result))\n",
            "/usr/local/lib/python3.8/dist-packages/sklearn/metrics/_classification.py:1318: UndefinedMetricWarning: Recall and F-score are ill-defined and being set to 0.0 in labels with no true samples. Use `zero_division` parameter to control this behavior.\n",
            "  _warn_prf(average, modifier, msg_start, len(result))\n",
            "/usr/local/lib/python3.8/dist-packages/sklearn/metrics/_classification.py:1318: UndefinedMetricWarning: Recall and F-score are ill-defined and being set to 0.0 in labels with no true samples. Use `zero_division` parameter to control this behavior.\n",
            "  _warn_prf(average, modifier, msg_start, len(result))\n"
          ]
        },
        {
          "data": {
            "image/png": "[encoded data removed]",
            "text/plain": [
              "<Figure size 432x288 with 2 Axes>"
            ]
          },
          "metadata": {
            "needs_background": "light"
          },
          "output_type": "display_data"
        },
        {
          "name": "stdout",
          "output_type": "stream",
          "text": [
            "---------------------------------------------------------\n",
            "FOLD: 6\n",
            "              precision    recall  f1-score   support\n",
            "\n",
            "           0       0.20      0.20      0.20         5\n",
            "           1       0.14      0.10      0.12        10\n",
            "           2       0.82      0.94      0.88        35\n",
            "           3       0.50      0.50      0.50         4\n",
            "           4       0.74      0.71      0.72        48\n",
            "\n",
            "    accuracy                           0.70       102\n",
            "   macro avg       0.48      0.49      0.48       102\n",
            "weighted avg       0.67      0.70      0.68       102\n",
            "\n"
          ]
        },
        {
          "data": {
            "image/png": "[encoded data removed]",
            "text/plain": [
              "<Figure size 432x288 with 2 Axes>"
            ]
          },
          "metadata": {
            "needs_background": "light"
          },
          "output_type": "display_data"
        },
        {
          "name": "stdout",
          "output_type": "stream",
          "text": [
            "---------------------------------------------------------\n",
            "FOLD: 7\n",
            "              precision    recall  f1-score   support\n",
            "\n",
            "           0       0.00      0.00      0.00         5\n",
            "           1       0.11      0.14      0.12         7\n",
            "           2       0.87      0.80      0.84        41\n",
            "           3       0.00      0.00      0.00         0\n",
            "           4       0.79      0.76      0.77        49\n",
            "\n",
            "    accuracy                           0.70       102\n",
            "   macro avg       0.35      0.34      0.35       102\n",
            "weighted avg       0.73      0.70      0.71       102\n",
            "\n"
          ]
        },
        {
          "name": "stderr",
          "output_type": "stream",
          "text": [
            "/usr/local/lib/python3.8/dist-packages/sklearn/metrics/_classification.py:1318: UndefinedMetricWarning: Recall and F-score are ill-defined and being set to 0.0 in labels with no true samples. Use `zero_division` parameter to control this behavior.\n",
            "  _warn_prf(average, modifier, msg_start, len(result))\n",
            "/usr/local/lib/python3.8/dist-packages/sklearn/metrics/_classification.py:1318: UndefinedMetricWarning: Recall and F-score are ill-defined and being set to 0.0 in labels with no true samples. Use `zero_division` parameter to control this behavior.\n",
            "  _warn_prf(average, modifier, msg_start, len(result))\n",
            "/usr/local/lib/python3.8/dist-packages/sklearn/metrics/_classification.py:1318: UndefinedMetricWarning: Recall and F-score are ill-defined and being set to 0.0 in labels with no true samples. Use `zero_division` parameter to control this behavior.\n",
            "  _warn_prf(average, modifier, msg_start, len(result))\n",
            "/usr/local/lib/python3.8/dist-packages/sklearn/metrics/_classification.py:1318: UndefinedMetricWarning: Recall and F-score are ill-defined and being set to 0.0 in labels with no true samples. Use `zero_division` parameter to control this behavior.\n",
            "  _warn_prf(average, modifier, msg_start, len(result))\n"
          ]
        },
        {
          "data": {
            "image/png": "[encoded data removed]",
            "text/plain": [
              "<Figure size 432x288 with 2 Axes>"
            ]
          },
          "metadata": {
            "needs_background": "light"
          },
          "output_type": "display_data"
        },
        {
          "name": "stdout",
          "output_type": "stream",
          "text": [
            "---------------------------------------------------------\n",
            "FOLD: 8\n",
            "              precision    recall  f1-score   support\n",
            "\n",
            "           0       0.00      0.00      0.00         4\n",
            "           1       0.25      0.50      0.33         4\n",
            "           2       0.93      0.87      0.90        46\n",
            "           3       0.67      0.50      0.57         4\n",
            "           4       0.78      0.82      0.80        44\n",
            "\n",
            "    accuracy                           0.78       102\n",
            "   macro avg       0.53      0.54      0.52       102\n",
            "weighted avg       0.79      0.78      0.79       102\n",
            "\n"
          ]
        },
        {
          "data": {
            "image/png": "[encoded data removed]",
            "text/plain": [
              "<Figure size 432x288 with 2 Axes>"
            ]
          },
          "metadata": {
            "needs_background": "light"
          },
          "output_type": "display_data"
        },
        {
          "name": "stdout",
          "output_type": "stream",
          "text": [
            "---------------------------------------------------------\n",
            "FOLD: 9\n",
            "              precision    recall  f1-score   support\n",
            "\n",
            "           0       0.00      0.00      0.00         1\n",
            "           1       0.50      0.27      0.35        11\n",
            "           2       0.82      0.97      0.89        34\n",
            "           3       1.00      0.17      0.29         6\n",
            "           4       0.82      0.84      0.83        50\n",
            "\n",
            "    accuracy                           0.77       102\n",
            "   macro avg       0.63      0.45      0.47       102\n",
            "weighted avg       0.79      0.77      0.76       102\n",
            "\n"
          ]
        },
        {
          "data": {
            "image/png": "[encoded data removed]",
            "text/plain": [
              "<Figure size 432x288 with 2 Axes>"
            ]
          },
          "metadata": {
            "needs_background": "light"
          },
          "output_type": "display_data"
        },
        {
          "name": "stdout",
          "output_type": "stream",
          "text": [
            "---------------------------------------------------------\n",
            "FOLD: 10\n",
            "              precision    recall  f1-score   support\n",
            "\n",
            "           0       0.00      0.00      0.00         1\n",
            "           1       0.20      0.25      0.22         4\n",
            "           2       0.87      0.91      0.89        45\n",
            "           3       0.00      0.00      0.00         0\n",
            "           4       0.91      0.79      0.85        52\n",
            "\n",
            "    accuracy                           0.81       102\n",
            "   macro avg       0.40      0.39      0.39       102\n",
            "weighted avg       0.86      0.81      0.83       102\n",
            "\n"
          ]
        },
        {
          "name": "stderr",
          "output_type": "stream",
          "text": [
            "/usr/local/lib/python3.8/dist-packages/sklearn/metrics/_classification.py:1318: UndefinedMetricWarning: Recall and F-score are ill-defined and being set to 0.0 in labels with no true samples. Use `zero_division` parameter to control this behavior.\n",
            "  _warn_prf(average, modifier, msg_start, len(result))\n",
            "/usr/local/lib/python3.8/dist-packages/sklearn/metrics/_classification.py:1318: UndefinedMetricWarning: Recall and F-score are ill-defined and being set to 0.0 in labels with no true samples. Use `zero_division` parameter to control this behavior.\n",
            "  _warn_prf(average, modifier, msg_start, len(result))\n",
            "/usr/local/lib/python3.8/dist-packages/sklearn/metrics/_classification.py:1318: UndefinedMetricWarning: Recall and F-score are ill-defined and being set to 0.0 in labels with no true samples. Use `zero_division` parameter to control this behavior.\n",
            "  _warn_prf(average, modifier, msg_start, len(result))\n",
            "/usr/local/lib/python3.8/dist-packages/sklearn/metrics/_classification.py:1318: UndefinedMetricWarning: Recall and F-score are ill-defined and being set to 0.0 in labels with no true samples. Use `zero_division` parameter to control this behavior.\n",
            "  _warn_prf(average, modifier, msg_start, len(result))\n"
          ]
        },
        {
          "data": {
            "image/png": "[encoded data removed]",
            "text/plain": [
              "<Figure size 432x288 with 2 Axes>"
            ]
          },
          "metadata": {
            "needs_background": "light"
          },
          "output_type": "display_data"
        },
        {
          "name": "stdout",
          "output_type": "stream",
          "text": [
            "---------------------------------------------------------\n",
            "Precisão média na validação das classes Inferior e Superior:  [0.07  0.189 0.89  0.317 0.777]\n",
            "----------------------------------------------------------------\n",
            "Recall médio na validação das classes Inferior e Superior:  [0.049 0.199 0.895 0.183 0.749]\n",
            "----------------------------------------------------------------\n",
            "F1 score médio na validação das classes Inferior e Superior:  [0.056 0.185 0.89  0.216 0.762]\n"
          ]
        }
      ],
      "source": [
        "from sklearn.model_selection import KFold\n",
        "kf = KFold(n_splits=10)\n",
        "\n",
        "melhor = 0\n",
        "#SE O DATASET FOR UM PANDAS DATAFRAME USAR iloc, SE FOR UM NUMPY ARRAY USAR take\n",
        "import sklearn.metrics as metrics\n",
        "import matplotlib.pyplot as plt\n",
        "from sklearn.metrics import precision_recall_fscore_support\n",
        "import numpy as np\n",
        "import copy\n",
        "\n",
        "fold = 1\n",
        "labels = ['0', '1']\n",
        "labels2 = [0, 1]\n",
        "\n",
        "precision_valid = [0,0,0,0,0]\n",
        "recall_valid = [0,0,0,0,0]\n",
        "fscore_valid = [0,0,0,0,0]\n",
        "\n",
        "for train_index, valid_index in kf.split(X_train):\n",
        "    x_train = X_train.iloc[train_index].loc[:]\n",
        "    y_train = Y_train.take(train_index)\n",
        "    \n",
        "    x_valid = X_train.iloc[valid_index].loc[:]\n",
        "    y_valid = Y_train.take(valid_index)\n",
        "    \n",
        "\n",
        "    model.fit(x_train, y_train)\n",
        "    predito = model.predict(x_valid)\n",
        "    \n",
        "    #Calculando as métricas\n",
        "    precision,recall,fscore,support = precision_recall_fscore_support(y_valid, predito, average=None)   \n",
        "    precision_valid = precision_valid + precision\n",
        "    recall_valid = recall_valid + recall\n",
        "    fscore_valid = fscore_valid + fscore     \n",
        "\n",
        "    acuracia = np.mean(y_valid == predito)\n",
        "    \n",
        "    if acuracia > melhor:          \n",
        "        melhor = acuracia\n",
        "        best_model = copy.deepcopy(model)\n",
        "    \n",
        "    print('FOLD: ' + str(fold))\n",
        "    print(metrics.classification_report(y_valid,predito))\n",
        "    \n",
        "    cm = metrics.confusion_matrix(y_valid,predito, labels=labels2)\n",
        "    disp = metrics.ConfusionMatrixDisplay(confusion_matrix=cm, display_labels=labels2)\n",
        "    disp.plot()\n",
        "    plt.show()\n",
        "    \n",
        "    fold += 1\n",
        "    print('---------------------------------------------------------')\n",
        "\n",
        "print(\"Precisão média na validação das classes Inferior e Superior: \" , np.round(precision_valid/10,3))\n",
        "print(\"----------------------------------------------------------------\")\n",
        "print(\"Recall médio na validação das classes Inferior e Superior: \" ,  np.round(recall_valid/10,3))\n",
        "print(\"----------------------------------------------------------------\")\n",
        "print(\"F1 score médio na validação das classes Inferior e Superior: \" ,  np.round(fscore_valid/10,3))\n"
      ]
    },
    {
      "cell_type": "code",
      "execution_count": 11,
      "metadata": {
        "id": "9lb6mSkxUysu"
      },
      "outputs": [],
      "source": [
        "from imblearn.over_sampling import RandomOverSampler, SMOTE\n",
        "smote = SMOTE(sampling_strategy='not majority')\n",
        "X_smote_res, y_smote_res = smote.fit_resample(X, Y)\n",
        "modelFinal = best_model.fit(X_smote_res,y_smote_res)"
      ]
    },
    {
      "cell_type": "code",
      "execution_count": 12,
      "metadata": {
        "colab": {
          "base_uri": "https://localhost:8080/"
        },
        "id": "souJOJiQ0DxK",
        "outputId": "e2294e38-c345-4eeb-9495-88c1d7f371e7"
      },
      "outputs": [
        {
          "name": "stdout",
          "output_type": "stream",
          "text": [
            "              precision    recall  f1-score   support\n",
            "\n",
            "           0       1.00      1.00      1.00         1\n",
            "           1       1.00      1.00      1.00         4\n",
            "           2       1.00      1.00      1.00        45\n",
            "           4       1.00      1.00      1.00        52\n",
            "\n",
            "    accuracy                           1.00       102\n",
            "   macro avg       1.00      1.00      1.00       102\n",
            "weighted avg       1.00      1.00      1.00       102\n",
            "\n"
          ]
        }
      ],
      "source": [
        "#Teste\n",
        "p = modelFinal.predict(x_valid)\n",
        "from sklearn.metrics import classification_report\n",
        "print(classification_report(y_valid, p))"
      ]
    },
    {
      "cell_type": "markdown",
      "metadata": {
        "id": "RxDa10HF1Ll5"
      },
      "source": [
        "## DECISION TREE BALANCEADO"
      ]
    },
    {
      "cell_type": "code",
      "execution_count": 13,
      "metadata": {
        "colab": {
          "base_uri": "https://localhost:8080/"
        },
        "id": "xkuqSeRw0ftL",
        "outputId": "dfc13495-a067-48d8-a963-85c058c656f6"
      },
      "outputs": [
        {
          "data": {
            "text/plain": [
              "0.8223234624145785"
            ]
          },
          "execution_count": 13,
          "metadata": {},
          "output_type": "execute_result"
        }
      ],
      "source": [
        "model = DecisionTreeClassifier(max_depth=6, criterion=\"entropy\", max_features=0.8, random_state=20)\n",
        "model = model.fit(x_train, y_train)\n",
        "predictions = model.predict(X_test)\n",
        "accuracy_score(Y_test, predictions)"
      ]
    },
    {
      "cell_type": "code",
      "execution_count": 15,
      "metadata": {
        "colab": {
          "base_uri": "https://localhost:8080/"
        },
        "id": "KVTSTHc_QHrT",
        "outputId": "227bd53c-0b6e-459c-c7f9-f04dd8e360b2"
      },
      "outputs": [
        {
          "name": "stderr",
          "output_type": "stream",
          "text": [
            "/usr/local/lib/python3.8/dist-packages/sklearn/model_selection/_split.py:676: UserWarning: The least populated class in y has only 1 members, which is less than n_splits=10.\n",
            "  warnings.warn(\n"
          ]
        },
        {
          "name": "stdout",
          "output_type": "stream",
          "text": [
            "Acurácia nos k-folds: [0.81818182 0.81818182 0.5        0.7        1.         0.9\n",
            " 1.         0.9        1.         1.        ]\n",
            "\n",
            "Desvio padrão: 0.15\n"
          ]
        }
      ],
      "source": [
        "from sklearn.model_selection import cross_val_score\n",
        "scores = cross_val_score(model, x_valid, y_valid, cv=10)\n",
        "print('Acurácia nos k-folds:', scores)\n",
        "print('\\nDesvio padrão: {:.2}'.format(np.std(scores)))\n"
      ]
    },
    {
      "cell_type": "code",
      "execution_count": 16,
      "metadata": {
        "colab": {
          "base_uri": "https://localhost:8080/"
        },
        "id": "eO8pw9zM2MsY",
        "outputId": "ccaf84c8-432c-4494-9f0d-acd9c4d08ae4"
      },
      "outputs": [
        {
          "name": "stdout",
          "output_type": "stream",
          "text": [
            "              precision    recall  f1-score   support\n",
            "\n",
            "           0       0.00      0.00      0.00        17\n",
            "           1       0.14      0.09      0.11        34\n",
            "           2       0.95      0.95      0.95       196\n",
            "           3       0.83      0.83      0.83         6\n",
            "           4       0.77      0.89      0.83       186\n",
            "\n",
            "    accuracy                           0.82       439\n",
            "   macro avg       0.54      0.55      0.54       439\n",
            "weighted avg       0.77      0.82      0.80       439\n",
            "\n"
          ]
        },
        {
          "name": "stderr",
          "output_type": "stream",
          "text": [
            "/usr/local/lib/python3.8/dist-packages/sklearn/metrics/_classification.py:1318: UndefinedMetricWarning: Precision and F-score are ill-defined and being set to 0.0 in labels with no predicted samples. Use `zero_division` parameter to control this behavior.\n",
            "  _warn_prf(average, modifier, msg_start, len(result))\n",
            "/usr/local/lib/python3.8/dist-packages/sklearn/metrics/_classification.py:1318: UndefinedMetricWarning: Precision and F-score are ill-defined and being set to 0.0 in labels with no predicted samples. Use `zero_division` parameter to control this behavior.\n",
            "  _warn_prf(average, modifier, msg_start, len(result))\n",
            "/usr/local/lib/python3.8/dist-packages/sklearn/metrics/_classification.py:1318: UndefinedMetricWarning: Precision and F-score are ill-defined and being set to 0.0 in labels with no predicted samples. Use `zero_division` parameter to control this behavior.\n",
            "  _warn_prf(average, modifier, msg_start, len(result))\n"
          ]
        }
      ],
      "source": [
        "from sklearn.metrics import classification_report\n",
        "print(classification_report(Y_test, predictions))"
      ]
    },
    {
      "cell_type": "markdown",
      "metadata": {
        "id": "XHMyFt6k1O7L"
      },
      "source": [
        "## Random Forest balanceado\n"
      ]
    },
    {
      "cell_type": "code",
      "execution_count": 17,
      "metadata": {
        "colab": {
          "base_uri": "https://localhost:8080/"
        },
        "id": "zkph2_PB0fdh",
        "outputId": "fa453149-a97a-40a7-be0d-728a0872d1d0"
      },
      "outputs": [
        {
          "data": {
            "text/plain": [
              "0.8382687927107062"
            ]
          },
          "execution_count": 17,
          "metadata": {},
          "output_type": "execute_result"
        }
      ],
      "source": [
        "modelF = RandomForestClassifier(random_state=0)\n",
        "modelF.fit(x_train, y_train)\n",
        "predictions = modelF.predict(X_test)\n",
        "accuracy_score(Y_test, predictions)"
      ]
    },
    {
      "cell_type": "code",
      "execution_count": 18,
      "metadata": {
        "colab": {
          "base_uri": "https://localhost:8080/"
        },
        "id": "jreLU3XbPhCC",
        "outputId": "d95a0d52-41bb-4696-97cd-28a3e887967b"
      },
      "outputs": [
        {
          "name": "stderr",
          "output_type": "stream",
          "text": [
            "/usr/local/lib/python3.8/dist-packages/sklearn/model_selection/_split.py:676: UserWarning: The least populated class in y has only 1 members, which is less than n_splits=10.\n",
            "  warnings.warn(\n"
          ]
        },
        {
          "name": "stdout",
          "output_type": "stream",
          "text": [
            "Acurácia nos k-folds: [0.81818182 0.90909091 0.6        0.9        0.9        0.8\n",
            " 1.         0.9        1.         1.        ]\n",
            "Desvio padrão: 0.12\n"
          ]
        }
      ],
      "source": [
        "\n",
        "scores = cross_val_score(modelF, x_valid, y_valid, cv=10)\n",
        "print('Acurácia nos k-folds:', scores)\n",
        "print('Desvio padrão: {:.2}'.format( np.std(scores)))"
      ]
    },
    {
      "cell_type": "code",
      "execution_count": 19,
      "metadata": {
        "colab": {
          "base_uri": "https://localhost:8080/"
        },
        "id": "93kOFkfp2rQa",
        "outputId": "314c7e31-ea15-415e-f9c0-c1f81465153c"
      },
      "outputs": [
        {
          "name": "stdout",
          "output_type": "stream",
          "text": [
            "              precision    recall  f1-score   support\n",
            "\n",
            "           0       0.33      0.12      0.17        17\n",
            "           1       0.14      0.06      0.08        34\n",
            "           2       0.98      0.96      0.97       196\n",
            "           3       1.00      1.00      1.00         6\n",
            "           4       0.77      0.91      0.84       186\n",
            "\n",
            "    accuracy                           0.84       439\n",
            "   macro avg       0.64      0.61      0.61       439\n",
            "weighted avg       0.80      0.84      0.81       439\n",
            "\n"
          ]
        }
      ],
      "source": [
        "\n",
        "print(classification_report(Y_test, predictions))"
      ]
    },
    {
      "cell_type": "markdown",
      "metadata": {
        "id": "wf_sPhiY24ur"
      },
      "source": [
        "## KNN\n"
      ]
    },
    {
      "cell_type": "code",
      "execution_count": 32,
      "metadata": {
        "colab": {
          "base_uri": "https://localhost:8080/"
        },
        "id": "ALpqMk-y268R",
        "outputId": "14b46a6d-ed10-4d1e-ed57-ad36cb32e762"
      },
      "outputs": [
        {
          "name": "stdout",
          "output_type": "stream",
          "text": [
            "              precision    recall  f1-score   support\n",
            "\n",
            "           0       0.00      0.00      0.00         1\n",
            "           1       0.50      0.25      0.33         4\n",
            "           2       0.83      0.78      0.80        45\n",
            "           4       0.79      0.88      0.84        52\n",
            "\n",
            "    accuracy                           0.80       102\n",
            "   macro avg       0.53      0.48      0.49       102\n",
            "weighted avg       0.79      0.80      0.79       102\n",
            "\n"
          ]
        },
        {
          "name": "stderr",
          "output_type": "stream",
          "text": [
            "/usr/local/lib/python3.8/dist-packages/sklearn/metrics/_classification.py:1318: UndefinedMetricWarning: Precision and F-score are ill-defined and being set to 0.0 in labels with no predicted samples. Use `zero_division` parameter to control this behavior.\n",
            "  _warn_prf(average, modifier, msg_start, len(result))\n",
            "/usr/local/lib/python3.8/dist-packages/sklearn/metrics/_classification.py:1318: UndefinedMetricWarning: Precision and F-score are ill-defined and being set to 0.0 in labels with no predicted samples. Use `zero_division` parameter to control this behavior.\n",
            "  _warn_prf(average, modifier, msg_start, len(result))\n",
            "/usr/local/lib/python3.8/dist-packages/sklearn/metrics/_classification.py:1318: UndefinedMetricWarning: Precision and F-score are ill-defined and being set to 0.0 in labels with no predicted samples. Use `zero_division` parameter to control this behavior.\n",
            "  _warn_prf(average, modifier, msg_start, len(result))\n"
          ]
        }
      ],
      "source": [
        "from sklearn.neighbors import KNeighborsClassifier\n",
        "knn = KNeighborsClassifier(n_neighbors=10)\n",
        "knn.fit(x_train, y_train)\n",
        "# Fazendo a predição nos dados de treino\n",
        "resultado_knn = knn.predict(x_valid)\n",
        "print(classification_report(y_valid, resultado_knn))"
      ]
    },
    {
      "cell_type": "code",
      "execution_count": 33,
      "metadata": {
        "colab": {
          "base_uri": "https://localhost:8080/"
        },
        "id": "GvMgzivWB0On",
        "outputId": "2fb2f3f3-2dbc-456b-ea13-4350e008f419"
      },
      "outputs": [
        {
          "name": "stdout",
          "output_type": "stream",
          "text": [
            "Acurácia nos k-folds: [0.72727273 0.72727273 0.3        0.9        0.9        0.9\n",
            " 0.7        0.8        0.8        0.8       ]\n",
            "Desvio padrão: 0.17\n"
          ]
        },
        {
          "name": "stderr",
          "output_type": "stream",
          "text": [
            "/usr/local/lib/python3.8/dist-packages/sklearn/model_selection/_split.py:676: UserWarning: The least populated class in y has only 1 members, which is less than n_splits=10.\n",
            "  warnings.warn(\n"
          ]
        }
      ],
      "source": [
        "scores = cross_val_score(knn, x_valid, y_valid, cv=10)\n",
        "print('Acurácia nos k-folds:', scores)\n",
        "print('Desvio padrão: {:.2}'.format( np.std(scores)))"
      ]
    }
  ],
  "metadata": {
    "colab": {
      "provenance": []
    },
    "kernelspec": {
      "display_name": "Python 3.10.6 64-bit",
      "language": "python",
      "name": "python3"
    },
    "language_info": {
      "name": "python",
      "version": "3.10.6"
    },
    "vscode": {
      "interpreter": {
        "hash": "d8151cc13c49030859a9664cc4c56fd478870979a0517afee4880b6c9cd7d0d3"
      }
    }
  },
  "nbformat": 4,
  "nbformat_minor": 0
}
