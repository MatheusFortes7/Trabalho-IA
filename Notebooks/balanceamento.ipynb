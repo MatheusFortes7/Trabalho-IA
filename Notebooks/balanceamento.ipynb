{
  "nbformat": 4,
  "nbformat_minor": 0,
  "metadata": {
    "colab": {
      "provenance": []
    },
    "kernelspec": {
      "name": "python3",
      "display_name": "Python 3"
    },
    "language_info": {
      "name": "python"
    }
  },
  "cells": [
    {
      "cell_type": "code",
      "execution_count": null,
      "metadata": {
        "id": "UQBaqIVcVzDp"
      },
      "outputs": [],
      "source": [
        "# importar os pacotes necessários\n",
        "import pandas as pd\n",
        "import matplotlib.pyplot as plt\n",
        "import seaborn as sns\n",
        "from sklearn.linear_model import LogisticRegression\n",
        "from sklearn.metrics import classification_report\n",
        "from sklearn.model_selection import train_test_split\n",
        "from sklearn.metrics import roc_auc_score, roc_curve, accuracy_score\n",
        "from imblearn.under_sampling import RandomUnderSampler, NearMiss, OneSidedSelection\n",
        "from imblearn.over_sampling import RandomOverSampler, SMOTE\n",
        "# configurar o estilo dos gráficos com o Seaborn\n",
        "sns.set_style('dark')"
      ]
    },
    {
      "cell_type": "code",
      "source": [
        "file_path = \"/content/sample_data/seattle-weather.csv\"\n",
        "# importar os dados para um dataframe\n",
        "df = pd.read_csv(file_path)\n",
        "# ver o balanceamento das classes\n",
        "print(df.weather.value_counts())\n",
        "# plotar gráfico de barras para as Classes\n",
        "sns.countplot('weather', data=df);"
      ],
      "metadata": {
        "colab": {
          "base_uri": "https://localhost:8080/",
          "height": 438
        },
        "id": "cemfwwn5WZ2V",
        "outputId": "8fa517ff-af6f-4398-8219-e23fdc3445f9"
      },
      "execution_count": null,
      "outputs": [
        {
          "output_type": "stream",
          "name": "stdout",
          "text": [
            "rain       641\n",
            "sun        640\n",
            "fog        101\n",
            "drizzle     53\n",
            "snow        26\n",
            "Name: weather, dtype: int64\n"
          ]
        },
        {
          "output_type": "stream",
          "name": "stderr",
          "text": [
            "/usr/local/lib/python3.7/dist-packages/seaborn/_decorators.py:43: FutureWarning: Pass the following variable as a keyword arg: x. From version 0.12, the only valid positional argument will be `data`, and passing other arguments without an explicit keyword will result in an error or misinterpretation.\n",
            "  FutureWarning\n"
          ]
        },
        {
          "output_type": "display_data",
          "data": {
            "text/plain": [
              "<Figure size 432x288 with 1 Axes>"
            ],
            "image/png": "[encoded data removed]"
          },
          "metadata": {}
        }
      ]
    },
    {
      "cell_type": "code",
      "source": [
        "# separar variáveis entre X e y\n",
        "X = df.drop('weather', axis=1)\n",
        "y = df['weather']\n",
        "# dividir o dataset entre treino e teste\n",
        "X_train, X_test, y_train, y_test = train_test_split(X, y, stratify=y, shuffle=True)\n",
        "# instanciar e treinar um modelo de Regressão Logística\n",
        "model = LogisticRegression()\n",
        "model.fit(X_train, y_train)\n",
        "# fazer as previsões em cima dos dados de teste\n",
        "y_pred = model.predict(X_test)\n",
        "y_proba = model.predict_proba(X_test)\n",
        "\n",
        "# imprimir relatório de classificação\n",
        "print(\"Relatório de Classificação:\\n\", classification_report(y_test, y_pred, digits=4))\n",
        "# imprimir a acurácia do modelo\n",
        "print(\"Acurácia: {:.4f}\\n\".format(accuracy_score(y_test, y_pred)))"
      ],
      "metadata": {
        "colab": {
          "base_uri": "https://localhost:8080/"
        },
        "id": "zNefamjDZ7VD",
        "outputId": "f69ff67b-d772-4cec-8f55-52bc4fcfb176"
      },
      "execution_count": null,
      "outputs": [
        {
          "output_type": "stream",
          "name": "stdout",
          "text": [
            "Relatório de Classificação:\n",
            "               precision    recall  f1-score   support\n",
            "\n",
            "     drizzle     0.0000    0.0000    0.0000        13\n",
            "         fog     0.0000    0.0000    0.0000        25\n",
            "        rain     0.9554    0.9317    0.9434       161\n",
            "        snow     0.0000    0.0000    0.0000         7\n",
            "         sun     0.7644    0.9938    0.8641       160\n",
            "\n",
            "    accuracy                         0.8443       366\n",
            "   macro avg     0.3440    0.3851    0.3615       366\n",
            "weighted avg     0.7545    0.8443    0.7928       366\n",
            "\n",
            "Acurácia: 0.8443\n",
            "\n"
          ]
        },
        {
          "output_type": "stream",
          "name": "stderr",
          "text": [
            "/usr/local/lib/python3.7/dist-packages/sklearn/linear_model/_logistic.py:818: ConvergenceWarning: lbfgs failed to converge (status=1):\n",
            "STOP: TOTAL NO. of ITERATIONS REACHED LIMIT.\n",
            "\n",
            "Increase the number of iterations (max_iter) or scale the data as shown in:\n",
            "    https://scikit-learn.org/stable/modules/preprocessing.html\n",
            "Please also refer to the documentation for alternative solver options:\n",
            "    https://scikit-learn.org/stable/modules/linear_model.html#logistic-regression\n",
            "  extra_warning_msg=_LOGISTIC_SOLVER_CONVERGENCE_MSG,\n",
            "/usr/local/lib/python3.7/dist-packages/sklearn/metrics/_classification.py:1318: UndefinedMetricWarning: Precision and F-score are ill-defined and being set to 0.0 in labels with no predicted samples. Use `zero_division` parameter to control this behavior.\n",
            "  _warn_prf(average, modifier, msg_start, len(result))\n",
            "/usr/local/lib/python3.7/dist-packages/sklearn/metrics/_classification.py:1318: UndefinedMetricWarning: Precision and F-score are ill-defined and being set to 0.0 in labels with no predicted samples. Use `zero_division` parameter to control this behavior.\n",
            "  _warn_prf(average, modifier, msg_start, len(result))\n",
            "/usr/local/lib/python3.7/dist-packages/sklearn/metrics/_classification.py:1318: UndefinedMetricWarning: Precision and F-score are ill-defined and being set to 0.0 in labels with no predicted samples. Use `zero_division` parameter to control this behavior.\n",
            "  _warn_prf(average, modifier, msg_start, len(result))\n"
          ]
        }
      ]
    },
    {
      "cell_type": "code",
      "source": [
        "# usar técnica under-sampling\n",
        "smote = SMOTE(sampling_strategy='not majority')\n",
        "X_smote_res, y_smote_res = smote.fit_resample(X, y)\n",
        "# ver o balanceamento das classes\n",
        "print(pd.Series(y_smote_res).value_counts())\n",
        "# plotar a nova distribuição de classes\n",
        "sns.countplot(y_smote_res);"
      ],
      "metadata": {
        "colab": {
          "base_uri": "https://localhost:8080/",
          "height": 438
        },
        "id": "MiWRyIawejib",
        "outputId": "56b4e97b-d7f2-4039-dd1a-78946fdea0dd"
      },
      "execution_count": null,
      "outputs": [
        {
          "output_type": "stream",
          "name": "stderr",
          "text": [
            "/usr/local/lib/python3.7/dist-packages/seaborn/_decorators.py:43: FutureWarning: Pass the following variable as a keyword arg: x. From version 0.12, the only valid positional argument will be `data`, and passing other arguments without an explicit keyword will result in an error or misinterpretation.\n",
            "  FutureWarning\n"
          ]
        },
        {
          "output_type": "stream",
          "name": "stdout",
          "text": [
            "drizzle    641\n",
            "rain       641\n",
            "sun        641\n",
            "snow       641\n",
            "fog        641\n",
            "Name: weather, dtype: int64\n"
          ]
        },
        {
          "output_type": "display_data",
          "data": {
            "text/plain": [
              "<Figure size 432x288 with 1 Axes>"
            ],
            "image/png": "[encoded data removed]"
          },
          "metadata": {}
        }
      ]
    },
    {
      "cell_type": "code",
      "source": [
        "# instanciar e treinar um modelo de Regressão Logística\n",
        "model_res = LogisticRegression()\n",
        "model_res.fit(X_smote_res, y_smote_res)\n",
        "# fazer as previsões em cima dos dados de teste\n",
        "y_pred_res = model_res.predict(X_test)\n",
        "y_proba_res = model_res.predict_proba(X_test)\n",
        "# imprimir relatório de classificação\n",
        "print(\"Relatório de Classificação:\\n\", classification_report(y_test, y_pred_res, digits=4))\n",
        "# imprimir a acurácia do modelo\n",
        "print(\"Acurácia: {:.4f}\\n\".format(accuracy_score(y_test, y_pred_res)))\n"
      ],
      "metadata": {
        "colab": {
          "base_uri": "https://localhost:8080/"
        },
        "id": "chyCQhxhbpcl",
        "outputId": "6d63feb9-fe57-4812-87ef-60eb714d47b7"
      },
      "execution_count": null,
      "outputs": [
        {
          "output_type": "stream",
          "name": "stdout",
          "text": [
            "Relatório de Classificação:\n",
            "               precision    recall  f1-score   support\n",
            "\n",
            "     drizzle     0.1351    0.3846    0.2000        13\n",
            "         fog     0.1818    0.3200    0.2319        25\n",
            "        rain     0.9929    0.8696    0.9272       161\n",
            "        snow     0.3529    0.8571    0.5000         7\n",
            "         sun     0.8583    0.6813    0.7596       160\n",
            "\n",
            "    accuracy                         0.7322       366\n",
            "   macro avg     0.5042    0.6225    0.5237       366\n",
            "weighted avg     0.8359    0.7322    0.7724       366\n",
            "\n",
            "Acurácia: 0.7322\n",
            "\n"
          ]
        },
        {
          "output_type": "stream",
          "name": "stderr",
          "text": [
            "/usr/local/lib/python3.7/dist-packages/sklearn/linear_model/_logistic.py:818: ConvergenceWarning: lbfgs failed to converge (status=1):\n",
            "STOP: TOTAL NO. of ITERATIONS REACHED LIMIT.\n",
            "\n",
            "Increase the number of iterations (max_iter) or scale the data as shown in:\n",
            "    https://scikit-learn.org/stable/modules/preprocessing.html\n",
            "Please also refer to the documentation for alternative solver options:\n",
            "    https://scikit-learn.org/stable/modules/linear_model.html#logistic-regression\n",
            "  extra_warning_msg=_LOGISTIC_SOLVER_CONVERGENCE_MSG,\n"
          ]
        }
      ]
    },
    {
      "cell_type": "code",
      "source": [
        "X_smote_res.to_csv('balanced.csv')"
      ],
      "metadata": {
        "id": "Ax_Loa9pkZiu"
      },
      "execution_count": null,
      "outputs": []
    }
  ]
}